{
 "cells": [
  {
   "cell_type": "code",
   "execution_count": 8,
   "metadata": {},
   "outputs": [
    {
     "name": "stdout",
     "output_type": "stream",
     "text": [
      "0\n",
      "1\n",
      "2\n",
      "3\n",
      "5\n",
      "8\n",
      "13\n",
      "21\n",
      "34\n",
      "\n",
      "******************************Now Using while loop******************************\n",
      "\n",
      "0\n",
      "1\n",
      "2\n",
      "3\n",
      "5\n",
      "8\n",
      "13\n",
      "21\n",
      "34\n"
     ]
    }
   ],
   "source": [
    "#1.>fibonacci:\n",
    "n=9 #or n=int(input(\"enter the number of terms to get fibonacci:\\n\"))\n",
    "a = 0\n",
    "b = 1\n",
    "print(0)\n",
    "if n < 0:\n",
    "    print(\"Incorrect input\")\n",
    "elif n == 0:\n",
    "    print(\"0\")\n",
    "elif n == 1:\n",
    "    print(b)\n",
    "else:\n",
    "    for i in range(1, n):\n",
    "        c = a + b\n",
    "        a = b\n",
    "        b = c\n",
    "        print(b)\n",
    "        \n",
    "print()        \n",
    "print(\"Now Using while loop\".center(80,\"*\"))\n",
    "print()\n",
    "\n",
    "Num = 10 #int(input(\"\\nPlease Enter the Range Number: \"))\n",
    "i = 0\n",
    "First_Num = 0\n",
    "Second_Num = 1\n",
    "print(First_Num)\n",
    "while(i < Num):\n",
    "    if(i <= 1):\n",
    "        Next_Num = i\n",
    "    else:\n",
    "        Next_Num = First_Num + Second_Num\n",
    "        First_Num= Second_Num\n",
    "        Second_Num = Next_Num\n",
    "        print(Next_Num)\n",
    "    i = i + 1\n",
    "\n"
   ]
  },
  {
   "cell_type": "code",
   "execution_count": 30,
   "metadata": {},
   "outputs": [
    {
     "name": "stdout",
     "output_type": "stream",
     "text": [
      "Enter your word\n",
      " Edyoda\n",
      "adoydE \n"
     ]
    }
   ],
   "source": [
    "#Send the Words To Mirror Dimension/reverse a word\n",
    "Word=input(\"Enter your word\\n\")\n",
    "v=Word[::-1]\n",
    "print(v)"
   ]
  },
  {
   "cell_type": "code",
   "execution_count": 51,
   "metadata": {},
   "outputs": [
    {
     "name": "stdout",
     "output_type": "stream",
     "text": [
      "no of even = 4\n",
      "no of odd = 5\n",
      "No of Even = 8 ,No of Odd = 10\n"
     ]
    }
   ],
   "source": [
    "#count of odd or even\n",
    "#1st way\n",
    "l=[1, 2, 3, 4, 5, 6, 7, 8, 9]\n",
    "c=0\n",
    "v=0\n",
    "for i in l:\n",
    "    if i%2==0:\n",
    "        c=c+1\n",
    "print(\"no of even = {}\".format(c))\n",
    "for j in l:\n",
    "    if j%2!=0:\n",
    "        v=v+1\n",
    "print(\"no of odd = {}\".format(v))\n",
    "\n",
    "#2nd way\n",
    "l1=[1, 2, 3, 4, 5, 6, 7, 8, 9,1, 2, 3, 4, 5, 6, 7, 8, 9]\n",
    "O,E=0,0\n",
    "for k in l1:\n",
    "    if k%2==0:\n",
    "        E=E+1\n",
    "O=len(l1)-E\n",
    "print(\"No of Even = {} ,No of Odd = {}\".format(E,O))"
   ]
  },
  {
   "cell_type": "code",
   "execution_count": null,
   "metadata": {},
   "outputs": [],
   "source": []
  }
 ],
 "metadata": {
  "kernelspec": {
   "display_name": "Python 3",
   "language": "python",
   "name": "python3"
  },
  "language_info": {
   "codemirror_mode": {
    "name": "ipython",
    "version": 3
   },
   "file_extension": ".py",
   "mimetype": "text/x-python",
   "name": "python",
   "nbconvert_exporter": "python",
   "pygments_lexer": "ipython3",
   "version": "3.7.3"
  }
 },
 "nbformat": 4,
 "nbformat_minor": 2
}
