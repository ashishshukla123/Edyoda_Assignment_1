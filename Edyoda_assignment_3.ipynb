{
 "cells": [
  {
   "cell_type": "raw",
   "metadata": {},
   "source": [
    "Write a Python function to sum all the numbers in a list.\n",
    "Sample List : (8, 2, 3, 0, 7)\n",
    "Expected Output : 20\n",
    "Explanation:\n",
    "Summation should like 8+2+3+0+7 = 20"
   ]
  },
  {
   "cell_type": "code",
   "execution_count": 13,
   "metadata": {},
   "outputs": [
    {
     "name": "stdout",
     "output_type": "stream",
     "text": [
      "8 + 2 + 3 + 0 + 7 = 20\n",
      "\n",
      "====================================\n",
      "\n",
      "8 +  2 +  3 +  0 +  7 +  1 +  2 +  3 +  4 +  5 = 35\n"
     ]
    }
   ],
   "source": [
    "#1st way::::::::\n",
    "\n",
    "\n",
    "num_list = [8,2,3,0,7]\n",
    "addition=sum(num_list)\n",
    "j=len(num_list)\n",
    "for i,k in enumerate(num_list):\n",
    "        if i%2!=0:\n",
    "            num_list.insert(i,'+')\n",
    "        else:\n",
    "            continue\n",
    "print(*num_list,'=',addition)\n",
    "print()\n",
    "print(\"====================================\")\n",
    "print()\n",
    "\n",
    "\n",
    "#2nd way::::::::\n",
    "\n",
    "num_list_1 = [8,2,3,0,7,1, 2, 3, 4, 5]\n",
    "b=sum(num_list_1)\n",
    "print(*num_list_1,sep=\"+\".center(4),end=' ')\n",
    "print(\"=\",b)"
   ]
  },
  {
   "cell_type": "raw",
   "metadata": {},
   "source": [
    "Write a Python program to reverse a string.\n",
    "Sample String : \"1234abcd\"\n",
    "Expected Output : \"dcba4321\""
   ]
  },
  {
   "cell_type": "code",
   "execution_count": 6,
   "metadata": {},
   "outputs": [
    {
     "name": "stdout",
     "output_type": "stream",
     "text": [
      "db4213ac\n",
      "\n",
      "dcba4321\n",
      "\n",
      "dcba4321"
     ]
    }
   ],
   "source": [
    "#1st way::::\n",
    "c=\"1234abcd\"\n",
    "g=[]\n",
    "for i in c:\n",
    "    if i not in g:\n",
    "        g.append(i)\n",
    "        g.reverse()\n",
    "print(*g,sep=\"\")\n",
    "print()\n",
    "\n",
    "#2nd way::::::\n",
    "c=\"1234abcd\"\n",
    "print(c[::-1])\n",
    "print()\n",
    "\n",
    "#3rd way:::::\n",
    "c=\"1234abcd\"\n",
    "for l in c[::-1]:\n",
    "    print(l,end=\"\")"
   ]
  },
  {
   "cell_type": "raw",
   "metadata": {},
   "source": [
    "Write a Python function that accepts a string and calculate the number of upper case letters and lower case letters.\n",
    "Sample String : 'The quick Brow Fox'\n",
    "Expected Output :\n",
    "No. of Upper case characters : 3\n",
    "No. of Lower case Characters : 12"
   ]
  },
  {
   "cell_type": "code",
   "execution_count": 39,
   "metadata": {},
   "outputs": [
    {
     "name": "stdout",
     "output_type": "stream",
     "text": [
      "No. of Upper case characters : 3\n",
      "No. of Lower case characters : 12\n",
      "=====================================\n",
      "\n",
      "Upper case characters:  3\n",
      "Lower case characters:  12\n",
      "\n",
      "-----------------------------------------\n",
      "*******************************************\n",
      "97\n",
      "122\n",
      "65\n",
      "90\n",
      "*******************************************\n",
      "\n",
      "Upper case characters:  3\n",
      "Lower case characters:  12\n"
     ]
    }
   ],
   "source": [
    "#1st way::::\n",
    "k='The quick Brow Fox'\n",
    "lc=0\n",
    "uc=0\n",
    "for i in k:\n",
    "    if i.isupper():\n",
    "        uc=uc+1\n",
    "    elif i.islower():\n",
    "        lc=lc+1\n",
    "print(\"No. of Upper case characters :\",uc)\n",
    "print(\"No. of Lower case characters :\",lc)\n",
    "\n",
    "print(\"=====================================\")\n",
    "print()\n",
    "\n",
    "#2nd way::::\n",
    "s = \"The quick Brow Fox\"\n",
    "l,u = 0,0\n",
    "for i in s:\n",
    "    if (i>='a'and i<='z'):\n",
    "        l=l+1                 \n",
    "    if (i>='A'and i<='Z'):\n",
    "        u=u+1   \n",
    "          \n",
    "print('Upper case characters: ',u)\n",
    "print('Lower case characters: ',l)\n",
    "print()\n",
    "print(\"-----------------------------------------\")\n",
    "\n",
    "#3rd way:::: using the ascii number of character\n",
    "\n",
    "print(\"*******************************************\")\n",
    "print(ord('a'))\n",
    "print(ord('z'))\n",
    "print(ord('A'))\n",
    "print(ord('Z'))\n",
    "print(\"*******************************************\")\n",
    "print()\n",
    "\n",
    "\n",
    "q=\"The quick Brow Fox\"\n",
    "uo,lo=0,0\n",
    "for p in range(len(q)):\n",
    "    if (ord(q[p])>= 97 and ord(q[p])<= 122):\n",
    "        lo=lo+1\n",
    "    elif (ord(q[p]) >= 65 and ord(q[p]) <= 90):\n",
    "        uo=uo+1\n",
    "print('Upper case characters: ',uo)\n",
    "print('Lower case characters: ',lo)"
   ]
  }
 ],
 "metadata": {
  "kernelspec": {
   "display_name": "Python 3",
   "language": "python",
   "name": "python3"
  },
  "language_info": {
   "codemirror_mode": {
    "name": "ipython",
    "version": 3
   },
   "file_extension": ".py",
   "mimetype": "text/x-python",
   "name": "python",
   "nbconvert_exporter": "python",
   "pygments_lexer": "ipython3",
   "version": "3.7.3"
  }
 },
 "nbformat": 4,
 "nbformat_minor": 2
}
