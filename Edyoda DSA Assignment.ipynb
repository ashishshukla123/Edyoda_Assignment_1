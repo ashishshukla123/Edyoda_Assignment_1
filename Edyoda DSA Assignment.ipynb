{
 "cells": [
  {
   "cell_type": "raw",
   "metadata": {},
   "source": [
    "Q1. Write a program to find all pairs of an integer array whose sum is equal to a given number?"
   ]
  },
  {
   "cell_type": "code",
   "execution_count": 1,
   "metadata": {},
   "outputs": [
    {
     "name": "stdout",
     "output_type": "stream",
     "text": [
      "(3, 9)\n",
      "(4, 8)\n",
      "(5, 7)\n"
     ]
    }
   ],
   "source": [
    "def find_pairs(n,arr,s1):\n",
    "    #s1=sum(arr)\n",
    "    for i in range(0,n):\n",
    "        for j in range(i+1,n):\n",
    "            if (arr[i] + arr[j] == s1):\n",
    "                print(\"(\", arr[i], \",\", \" \", arr[j], \")\", sep = \"\")\n",
    "\n",
    "\n",
    "l=[1,2,3,4,5,6,7,8,9]\n",
    "b=len(l)\n",
    "c=12\n",
    "find_pairs(b,l,c)"
   ]
  },
  {
   "cell_type": "code",
   "execution_count": 2,
   "metadata": {},
   "outputs": [],
   "source": [
    "# l1=[3,9,4,8,5,7]\n",
    "# s2=12\n",
    "# l2=[]\n",
    "# z=tuple()\n",
    "# for i in l1:\n",
    "#     l2.append([i,s2-i])\n",
    "# print(\"total no of pair avail are: \",len(l2)//2,\"pair\",l2)"
   ]
  },
  {
   "cell_type": "raw",
   "metadata": {},
   "source": [
    "Q2. Write a program to reverse an array in place? In place means you cannot create a new array. You have to update the original array."
   ]
  },
  {
   "cell_type": "code",
   "execution_count": 35,
   "metadata": {},
   "outputs": [
    {
     "name": "stdout",
     "output_type": "stream",
     "text": [
      "[1, 2, 3, 4, 5, 6] \n",
      "\n",
      "Reversed : [6, 5, 4, 3, 2, 1]\n",
      "***************2nd way******************\n",
      "Reversed: \n",
      " [6, 5, 4, 3, 2, 1]\n"
     ]
    }
   ],
   "source": [
    "def reverse(A):\n",
    "    print(A[::-1])\n",
    "a = [1, 2, 3, 4, 5, 6]\n",
    "print(A,\"\\n\")\n",
    "print(\"Reversed :\",end=\" \")\n",
    "reverse(a)\n",
    "\n",
    "\n",
    "print(\"***************2nd way******************\")\n",
    "\n",
    "def rarray(arr,s,e):\n",
    "    while s<e:\n",
    "        arr[s], arr[e] = a[e], a[s]\n",
    "        s=s+1\n",
    "        e=e-1\n",
    "b = [1, 2, 3, 4, 5, 6]\n",
    "rarray(b, 0, 5)\n",
    "print(\"Reversed: \\n\",end=\" \")\n",
    "print(b)"
   ]
  },
  {
   "cell_type": "raw",
   "metadata": {},
   "source": [
    "Q3. Write a program to check if two strings are a rotation of each other?"
   ]
  },
  {
   "cell_type": "code",
   "execution_count": 38,
   "metadata": {},
   "outputs": [
    {
     "name": "stdout",
     "output_type": "stream",
     "text": [
      "rotation of each other\n"
     ]
    }
   ],
   "source": [
    "s1=\"hello\"\n",
    "s2=\"lohel\"\n",
    "s3=s1+s2\n",
    "#print(s3)\n",
    "if s2 in s3:\n",
    "    print(\"rotation of each other\")\n",
    "else:\n",
    "    print(\"not rotation of each other \")"
   ]
  },
  {
   "cell_type": "raw",
   "metadata": {},
   "source": [
    "Q4. Write a program to print the first non-repeated character from a string?"
   ]
  },
  {
   "cell_type": "code",
   "execution_count": 42,
   "metadata": {},
   "outputs": [
    {
     "name": "stdout",
     "output_type": "stream",
     "text": [
      "a\n",
      "d\n"
     ]
    }
   ],
   "source": [
    "def non_repeating(str1):\n",
    "    char_order = []\n",
    "    ctr = {}\n",
    "    for c in str1:\n",
    "        if c in ctr:\n",
    "            ctr[c] += 1\n",
    "        else:\n",
    "            ctr[c] = 1 \n",
    "        char_order.append(c)\n",
    "    for c in char_order:\n",
    "        if ctr[c] == 1:\n",
    "            return c\n",
    "    return None\n",
    "\n",
    "print(non_repeating('abcdef'))\n",
    "print(non_repeating('abcabcdef'))"
   ]
  },
  {
   "cell_type": "raw",
   "metadata": {},
   "source": [
    "Q5. Read about the Tower of Hanoi algorithm. Write a program to implement it."
   ]
  },
  {
   "cell_type": "code",
   "execution_count": 45,
   "metadata": {},
   "outputs": [
    {
     "name": "stdout",
     "output_type": "stream",
     "text": [
      "Move disk 1 from rod A to rod B\n",
      "Move disk 2 from rod A to rod C\n",
      "Move disk 1 from rod B to rod C\n",
      "Move disk 3 from rod A to rod B\n",
      "Move disk 1 from rod C to rod A\n",
      "Move disk 2 from rod C to rod B\n",
      "Move disk 1 from rod A to rod B\n",
      "Move disk 4 from rod A to rod C\n",
      "Move disk 1 from rod B to rod C\n",
      "Move disk 2 from rod B to rod A\n",
      "Move disk 1 from rod C to rod A\n",
      "Move disk 3 from rod B to rod C\n",
      "Move disk 1 from rod A to rod B\n",
      "Move disk 2 from rod A to rod C\n",
      "Move disk 1 from rod B to rod C\n"
     ]
    }
   ],
   "source": [
    "def TowerOfHanoi(n , from_rod, to_rod, aux_rod):\n",
    "    if n == 1:\n",
    "        print(\"Move disk 1 from rod\",from_rod,\"to rod\",to_rod)\n",
    "        return\n",
    "    TowerOfHanoi(n-1, from_rod, aux_rod, to_rod)\n",
    "    print(\"Move disk\",n,\"from rod\",from_rod,\"to rod\",to_rod)\n",
    "    TowerOfHanoi(n-1, aux_rod, to_rod, from_rod)\n",
    "n = 4\n",
    "TowerOfHanoi(n, 'A', 'C', 'B')"
   ]
  },
  {
   "cell_type": "raw",
   "metadata": {},
   "source": [
    "Q6. Read about infix, prefix, and postfix expressions. Write a program to convert postfix to prefix expression."
   ]
  },
  {
   "cell_type": "code",
   "execution_count": 48,
   "metadata": {},
   "outputs": [
    {
     "name": "stdout",
     "output_type": "stream",
     "text": [
      "Prefix :  +AB-CD\n"
     ]
    }
   ],
   "source": [
    "def isOperator(x):\n",
    " \n",
    "    if x == \"+\":\n",
    "        return True\n",
    " \n",
    "    if x == \"-\":\n",
    "        return True\n",
    " \n",
    "    if x == \"/\":\n",
    "        return True\n",
    " \n",
    "    if x == \"*\":\n",
    "        return True\n",
    " \n",
    "    return False\n",
    " \n",
    "def postToPre(post_exp):\n",
    "    s = []\n",
    "    length = len(post_exp)\n",
    "    for i in range(length):\n",
    "        if (isOperator(post_exp[i])):\n",
    "            op1 = s[-1]\n",
    "            s.pop()\n",
    "            op2 = s[-1]\n",
    "            s.pop()\n",
    "            temp = post_exp[i] + op2 + op1\n",
    "            s.append(temp)\n",
    "        else:\n",
    "            s.append(post_exp[i])\n",
    " \n",
    "    \n",
    "    ans = \"\"\n",
    "    for i in s:\n",
    "        ans += i\n",
    "    return ans\n",
    "print(\"Prefix : \", postToPre(post_exp))\n",
    " "
   ]
  },
  {
   "cell_type": "raw",
   "metadata": {},
   "source": [
    "Q7. Write a program to convert prefix expression to infix expression."
   ]
  },
  {
   "cell_type": "code",
   "execution_count": 1,
   "metadata": {},
   "outputs": [],
   "source": [
    "def prefix_to_infix(expr):\n",
    "    if type(expr) != type([]):\n",
    "        # The expression is a number or variable.\n",
    "        return str(expr)\n",
    "    elif len(expr) == 2:\n",
    "        # This is an operator expression with 1 argument.\n",
    "        return str(expr[1])\n",
    "    else:\n",
    "        # This is an operator expression with 2 or more arguments.\n",
    "        operator = expr[0]\n",
    "        left_arg = prefix_to_infix([operator] + expr[1:-1])\n",
    "        right_arg = prefix_to_infix(expr[-1])\n",
    "        return \"({0}{1}{2})\".format(left_arg, operator, right_arg)"
   ]
  },
  {
   "cell_type": "code",
   "execution_count": 6,
   "metadata": {},
   "outputs": [
    {
     "data": {
      "text/plain": [
       "'((((1+2)+3)+4)+5)'"
      ]
     },
     "execution_count": 6,
     "metadata": {},
     "output_type": "execute_result"
    }
   ],
   "source": [
    "prefix_to_infix(['+',1,2,3,4,5])"
   ]
  },
  {
   "cell_type": "raw",
   "metadata": {},
   "source": [
    "Q8. Write a program to check if all the brackets are closed in a given code snippet."
   ]
  },
  {
   "cell_type": "code",
   "execution_count": 18,
   "metadata": {},
   "outputs": [
    {
     "name": "stdout",
     "output_type": "stream",
     "text": [
      "Balanced\n"
     ]
    }
   ],
   "source": [
    "def areBracketsBalanced(expr):\n",
    "    stack = []\n",
    "    for char in expr:\n",
    "        if char in [\"(\", \"{\", \"[\"]:\n",
    "            stack.append(char)\n",
    "        else:\n",
    "            if not stack:\n",
    "                return False\n",
    "            current_char = stack.pop()\n",
    "            if current_char == '(':\n",
    "                if char != \")\":\n",
    "                    return False\n",
    "            if current_char == '{':\n",
    "                if char != \"}\":\n",
    "                    return False\n",
    "            if current_char == '[':\n",
    "                if char != \"]\":\n",
    "                    return False\n",
    "    if stack:\n",
    "        return False\n",
    "    return True\n",
    "\n",
    "expr='{()}[]'\n",
    "if areBracketsBalanced(expr):\n",
    "    print(\"Balanced\")\n",
    "else:\n",
    "    print(\"Not Balanced\")\n"
   ]
  },
  {
   "cell_type": "raw",
   "metadata": {},
   "source": [
    "Q9. Write a program to reverse a stack."
   ]
  },
  {
   "cell_type": "code",
   "execution_count": 19,
   "metadata": {},
   "outputs": [
    {
     "data": {
      "text/plain": [
       "[3, 2, 1]"
      ]
     },
     "execution_count": 19,
     "metadata": {},
     "output_type": "execute_result"
    }
   ],
   "source": [
    "def reverse_stack(stack):\n",
    "    stack.reverse()\n",
    "    \n",
    "stack = [1, 2, 3]\n",
    "reverse_stack(stack)\n",
    "stack"
   ]
  },
  {
   "cell_type": "raw",
   "metadata": {},
   "source": [
    "Q10. Write a program to find the smallest number using a stack."
   ]
  },
  {
   "cell_type": "code",
   "execution_count": 28,
   "metadata": {},
   "outputs": [
    {
     "name": "stdout",
     "output_type": "stream",
     "text": [
      "1\n",
      "-------------------------------\n"
     ]
    }
   ],
   "source": [
    "a = [6,5,4,4,2,1,10,1,2,48]\n",
    "s = set(a)  \n",
    "print(sorted(s)[0])\n",
    "\n",
    "print(\"-------------------------------\")\n",
    "\n",
    "# import heapq\n",
    "# def second_smallest(numbers):\n",
    "#     return heapq.nsmallest(2, numbers)[0]\n",
    "\n",
    "# second_smallest([1, 2, 3, 4])"
   ]
  },
  {
   "cell_type": "code",
   "execution_count": null,
   "metadata": {},
   "outputs": [],
   "source": []
  }
 ],
 "metadata": {
  "kernelspec": {
   "display_name": "Python 3",
   "language": "python",
   "name": "python3"
  },
  "language_info": {
   "codemirror_mode": {
    "name": "ipython",
    "version": 3
   },
   "file_extension": ".py",
   "mimetype": "text/x-python",
   "name": "python",
   "nbconvert_exporter": "python",
   "pygments_lexer": "ipython3",
   "version": "3.7.3"
  }
 },
 "nbformat": 4,
 "nbformat_minor": 2
}
