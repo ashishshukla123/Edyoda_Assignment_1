{
 "cells": [
  {
   "cell_type": "raw",
   "metadata": {},
   "source": [
    "Q1. Write a program to find all pairs of an integer array whose sum is equal to a given number?"
   ]
  },
  {
   "cell_type": "code",
   "execution_count": 1,
   "metadata": {},
   "outputs": [
    {
     "name": "stdout",
     "output_type": "stream",
     "text": [
      "(3, 9)\n",
      "(4, 8)\n",
      "(5, 7)\n"
     ]
    }
   ],
   "source": [
    "def find_pairs(n,arr,s1):\n",
    "    #s1=sum(arr)\n",
    "    for i in range(0,n):\n",
    "        for j in range(i+1,n):\n",
    "            if (arr[i] + arr[j] == s1):\n",
    "                print(\"(\", arr[i], \",\", \" \", arr[j], \")\", sep = \"\")\n",
    "\n",
    "\n",
    "l=[1,2,3,4,5,6,7,8,9]\n",
    "b=len(l)\n",
    "c=12\n",
    "find_pairs(b,l,c)"
   ]
  },
  {
   "cell_type": "code",
   "execution_count": 2,
   "metadata": {},
   "outputs": [],
   "source": [
    "# l1=[3,9,4,8,5,7]\n",
    "# s2=12\n",
    "# l2=[]\n",
    "# z=tuple()\n",
    "# for i in l1:\n",
    "#     l2.append([i,s2-i])\n",
    "# print(\"total no of pair avail are: \",len(l2)//2,\"pair\",l2)"
   ]
  },
  {
   "cell_type": "raw",
   "metadata": {},
   "source": [
    "Q2. Write a program to reverse an array in place? In place means you cannot create a new array. You have to update the original array."
   ]
  },
  {
   "cell_type": "code",
   "execution_count": 35,
   "metadata": {},
   "outputs": [
    {
     "name": "stdout",
     "output_type": "stream",
     "text": [
      "[1, 2, 3, 4, 5, 6] \n",
      "\n",
      "Reversed : [6, 5, 4, 3, 2, 1]\n",
      "***************2nd way******************\n",
      "Reversed: \n",
      " [6, 5, 4, 3, 2, 1]\n"
     ]
    }
   ],
   "source": [
    "def reverse(A):\n",
    "    print(A[::-1])\n",
    "a = [1, 2, 3, 4, 5, 6]\n",
    "print(A,\"\\n\")\n",
    "print(\"Reversed :\",end=\" \")\n",
    "reverse(a)\n",
    "\n",
    "\n",
    "print(\"***************2nd way******************\")\n",
    "\n",
    "def rarray(arr,s,e):\n",
    "    while s<e:\n",
    "        arr[s], arr[e] = a[e], a[s]\n",
    "        s=s+1\n",
    "        e=e-1\n",
    "b = [1, 2, 3, 4, 5, 6]\n",
    "rarray(b, 0, 5)\n",
    "print(\"Reversed: \\n\",end=\" \")\n",
    "print(b)"
   ]
  },
  {
   "cell_type": "raw",
   "metadata": {},
   "source": [
    "Q3. Write a program to check if two strings are a rotation of each other?"
   ]
  },
  {
   "cell_type": "code",
   "execution_count": null,
   "metadata": {},
   "outputs": [],
   "source": [
    "s1 = \"ABACD\"\n",
    "s2 = \"CDABA\"\n",
    "for i in range(0,len(s1)):\n",
    "    for j in range(i+1,len(s1)):\n",
    "        if \n",
    "    "
   ]
  },
  {
   "cell_type": "code",
   "execution_count": null,
   "metadata": {},
   "outputs": [],
   "source": []
  },
  {
   "cell_type": "code",
   "execution_count": null,
   "metadata": {},
   "outputs": [],
   "source": []
  },
  {
   "cell_type": "code",
   "execution_count": null,
   "metadata": {},
   "outputs": [],
   "source": []
  },
  {
   "cell_type": "code",
   "execution_count": null,
   "metadata": {},
   "outputs": [],
   "source": []
  },
  {
   "cell_type": "code",
   "execution_count": 155,
   "metadata": {},
   "outputs": [],
   "source": []
  },
  {
   "cell_type": "code",
   "execution_count": null,
   "metadata": {},
   "outputs": [],
   "source": []
  }
 ],
 "metadata": {
  "kernelspec": {
   "display_name": "Python 3",
   "language": "python",
   "name": "python3"
  },
  "language_info": {
   "codemirror_mode": {
    "name": "ipython",
    "version": 3
   },
   "file_extension": ".py",
   "mimetype": "text/x-python",
   "name": "python",
   "nbconvert_exporter": "python",
   "pygments_lexer": "ipython3",
   "version": "3.7.3"
  }
 },
 "nbformat": 4,
 "nbformat_minor": 2
}
