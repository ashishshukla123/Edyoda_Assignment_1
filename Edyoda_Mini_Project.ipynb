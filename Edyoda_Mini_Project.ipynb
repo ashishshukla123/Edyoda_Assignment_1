import datetime
import random
import string
Member_detail = {}
module={}
Unit={}

class Member:
    @classmethod
    def managemodule(cls):
            mod={}
            Mname = input("Enter Module Name -")
            Mstatus = "new module"
            date_entry = input('Enter expected date of commencing the module in YYYY-MM-DD format')
            year, month, day = map(int, date_entry.split('-'))
            date1 = datetime.date(year, month, day)
            date_end = input('Enter expected date of ending module in YYYY-MM-DD format')
            year, month, day = map(int, date_entry.split('-'))
            date2 = datetime.date(year, month, day)
            
                        
            
            
            number = random.randint(1000,9999)
            Mid= number
            print("your module id is:",number)
            
            
            
            
            mod["Mid"]=Mid
            mod["Mname"]=Mname
            mod["Mstatus"]=Mstatus
            mod["Start_date"]=date1
            mod["End_date"]=date2
            module[Mid]=mod

    @classmethod       
    def allmodule(cls):
        print(module.keys())
        #def allmodule(cls,Mid):
        
#         if Mid in module:
#             print(Mid)
#         else:
#             print("module not found\n")
            
    @classmethod        
    def Module_details(cls,Mid):
        if Mid in module:
            user=module[Mid]
            print("Mid                        - ", user["Mid"])
            print("Mname                          - ", user["Mname"])
            print("Mstatus                       - ", user["Mstatus"])
            print("Mstatus                       - ", user["Start_date"])
            print("Mstatus                       - ", user["End_date"])
            
    @classmethod
    def Module_Update():
        pass
    @classmethod 
    def Module_Delete(cls,x):
        del module[x]

    
    
    
    
        
    @classmethod    
    def Manage_units(cls):
        unit={}
        print("the following units type can be the part of your module"
                       "\n1.live sessions \n2.quizzes \n3.assignments")
        
        # select the unit status also
        #upcoming,ongoing,completed
        
        #from datetime import date
  
        
        unit_name=input("enter unit name:\n")
            
        char_set = string.ascii_uppercase + string.digits
        uid=''.join(random.sample(char_set*6, 6))
        unit_title=input("enter the unit title\n")
        date_entry = input('Enter expected date of commencing the unit in YYYY-MM-DD format')
        year, month, day = map(int, date_entry.split('-'))
        date3 = datetime.date(year, month, day)
        date_entry = input('Enter expected date of ending unit in YYYY-MM-DD format')
        year, month, day = map(int, date_entry.split('-'))
        date4 = datetime.date(year, month, day)
        
        
        #today = date.today()
        #print("Today date is: ", today)
        
        #if (unit_sdate.day-today.day !=0) and (unit_sdate.year-today.year)
        
                
        
        print("successfully created unit and your uid is:",uid)
        
        unit["Unit_Name"]=unit_name
        unit["Unit id"]=uid
        unit["Unit_title"]=unit_title
        unit["Unit_Start_date"]=date3
        unit["Unit_End_date"]=date4
        module[uid]=unit                   #here instead of using module we can use unit dictionary or make it as value
    
        
        
    
    
    @classmethod
    def allunits(cls):
        print(module.items())
            
    
    
        #we have to make module id as a part of unit id
        #module.update(cls.managemodule.Mid,cls.Manage_units.uid)
        
#         uid=int(input("enter uid"))
#         if uid in Unit:
#             user=Unit[uid]
            
#             print(module.items())
            
#             print(Units.keys())
#             print("uid                        - ", user["Unit id"])
#             print("Uname                          - ", user["Unit_Name"])
#             print("Unit_title                       - ", user["Unit_title"])
#             #it should also print the mid
            
        
        
    @classmethod        
    def Unitdetails(cls,uid):
        if uid in Unit:
            user=Unit[uid]
            print("uid                        - ", user["Unit id"])
            print("Uname                          - ", user["Unit_Name"])
            print("Unit_title                       - ", user["Unit_title"])
            print("unit start date                       - ", user["Unit_Start_date"])
            print("unit end date                       - ", user["Unit_End_date"])
        
    
    
    @classmethod       
    def update_uint(cls):
        pass
    
    @classmethod 
    def Delete_unit(cls,x):
        del Unit[x]
    
    
                
                                  
    
    
    @classmethod
    def Manage_student(cls):
        Person = {}
        Name = input("Enter student Name -")
        Age = input("Enter student Age -")
        Gender = input("Enter student Gender -")
        Mobile_no = int(input("Enter Member Mobile_no. -"))
        Email = input("Enter student Email -")
        
        #student id and password will be created here and send by pm to student
        
        
        Person["Name"] = Name
        Person["Age"] = Age
        Person["Gender"] = Gender
        Person["Mobile_no"] = Mobile_no
        Person["Email"] = Email
        Member_detail[Mobile_no] = Person
        #Regimen_for_All_Member[Mobile_no] = Member.Regimens(BMI)

    @classmethod
    def student_Details(cls, number):
        if number in Member_detail:
            user = Member_detail[number]
            print("Name                         - ", user["Name"])
            print("Age                          - ", user["Age"])
            print("Gender                       - ", user["Gender"])
            print("Mobile_no                    - ", user["Mobile_no"])
            print("Email                        _ ", user["Email"])
#             print("BMI                          - ", user["BMI"])
#             print("Duration of Membership month - ", user["Duration of Membership Month"])

    @classmethod
    def allstudents(cls):
        #print(Member_detail.items())
        for roll_number ,std_details in Member_detail.items():
            print()
            print("ROLL NUMBER: ",roll_number,"STUDENT DETAILS: ",std_details)
    
    
    @classmethod       
    def update_student(cls):
        pass
    
    @classmethod
    def Delete_student(cls, x):
        del Member_detail[x]



    @classmethod
    #to merge the student phone number and unit id in one dictionary
    def std(cls):
        merge_unit_std=dict(zip(Unit,Member_detail))
        print(merge_unit_std.items())
        


while True:
    x = input("Press 1 for PROGRAM MANAGER \nPress 2 for STUDENT \n--")
    choose_option = 100
    if x == "1":
        print("  WELCOME PROGRAM MANGER  ")
        username,password="admin","admin"
        userw=input("please enter your username\n")
        passw=input("please enter your password\n")
        if userw==username and passw==password:
            print("login successfully\n")
            while choose_option != "0":
                choose_option = input("Press 1 Manage Modules \nPress 2 Manage Units "
                                      "\nPress 3 Manage Students \nPress 4 logout "
                                      "Press 0 for Exit from program manger \n--")
                if choose_option == "1":
                    option = int(input("Press 1 Create a new module \nPress 2 View all modules "
                            "\nPress 3 View module details \nPress 4 Update module \nPress 5 Delete module\n"))
                    if option==1:
                        Member.managemodule()

                    elif option==2:
                        Member.allmodule()
                    elif option==3:
                        val=int(input("enter mid to see"))  #changes made are here
                        if val in module:
                            Member.Module_details(val)
                        else:
                            print("not found")
                        #Mdetails()
                    elif option==4:
                        Module_Update()
                    elif option==5:
                        Module_Delete()
                    else:
                        print("enter valid no")


                    for_pass = input("Press 'Enter' for next - ")

                elif choose_option == "2":
                    option = int(input("Press 1 Create a new unit \nPress 2 View all unit "
                            "\nPress 3 View unit details \nPress 4 Update unit \nPress 5 Delete unit\n"))

                    if option==1:
                        Member.Manage_units()

                    elif option==2:
                        Member.allunits()
                    elif option==3:
                        valu=int(input("enter mid to see"))  #changes made are here
                        if valu in Unit:
                            Member.Unitdetails(valu)
                        else:
                            print("unit not found")
                    elif option==4:
                        Member.update_uint()
                    elif option==5:
                        Module_Delete()

                    for_pass = input("Press 'Enter' for next - ")

                elif choose_option == "3":
                    option = int(input("Press 1 Create a new student \nPress 2 View student details "
                            "\nPress 3 don't use it \nPress 4 Update student \nPress 5 Delete student\n"))

                    if option==1:
                        Member.Manage_student()

                    elif option==2:
                        value=int(input("enter student ph no to see details\n"))
                        if value in Member_detail:
                            Member.student_Details(value)
                        else:
                            print("student not found")


                    elif option==3:
                        Member.allstudents()
                        #print("just pass the function")
                        #Member.Unitdetails()
                    elif option==4:
                        Member.update_student()


                    for_pass = input("Press 'Enter' for next - ")


                else:
                    if choose_option != "0":
                        print("Invalid Input!!!")
                    else:
                        print("Exit!!!")
                print()
        else:
            print("invalid credentials please try to login again\n")
        

    elif x == "2":
        print("  WELCOME STUDENT  ")
        num=int(input("student enter your number:\n"))
        if num in Member_detail:
            print("login successful\n")
            while choose_option != "0":
                choose_option = input("Press 1 for View Today’s Schedule \nPress 2 for View My Modules "
                                      "\nPress 3 for Update Profile \nPress 4 for Logout!!! \nPress 0 for Exit from student--")
                if choose_option == "1":
                    number = input("Enter your Mobile Number -\n--")
                    if number in Member_detail:
                        inp=input("enter uid\n")
                        if inp in Unit:
                            print(Member.Unitdetails(inp))
                        else:
                            print("uid doesn't exist")
                        
                        #if number in Member_detail:
                        #    Member.Unitdetails(uid) -->enter the uid also
                        
                        #for key in Member_detail[number]:
                        #    print(key, "-", Member_detail[number][key])
                    else:
                        print("Number Not Found For You")
                    for_pass = input("Press 'Enter' for next - ")

                elif choose_option == "2":
                    if number in Member_detail:
                        Member.Details(number)
                    else:
                        print("Member Details Not Found.")
                    for_pass = input("Press 'Enter' for next - ")

                elif choose_option=="3":
                    print(Member.std())

                elif choose_option == "0":
                    print("Exit!!!")
                else:
                    print("Invalid Input Enter By You")
                print()
        else:
            print("invalid ph no please try again")
    else:
        print("Invalid Input!!")
        break
